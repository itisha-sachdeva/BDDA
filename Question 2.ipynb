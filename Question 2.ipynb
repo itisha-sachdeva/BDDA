{
 "cells": [
  {
   "cell_type": "code",
   "execution_count": 22,
   "metadata": {},
   "outputs": [],
   "source": [
    "from pyspark.sql import SQLContext\n",
    "import seaborn as sn\n",
    "import matplotlib.pyplot as plt "
   ]
  },
  {
   "cell_type": "code",
   "execution_count": 23,
   "metadata": {},
   "outputs": [],
   "source": [
    "sqlContext = SQLContext(sc)\n",
    "d = sqlContext.read.load(\"home/ICC/Desktop/Downloads/insurance.csv\",\n",
    "                         format=\"com.databricks.spark.csv\",header=True,inferSchema=True)"
   ]
  },
  {
   "cell_type": "code",
   "execution_count": 12,
   "metadata": {},
   "outputs": [
    {
     "data": {
      "text/plain": [
       "1338"
      ]
     },
     "execution_count": 12,
     "metadata": {},
     "output_type": "execute_result"
    }
   ],
   "source": [
    "d.count()"
   ]
  },
  {
   "cell_type": "code",
   "execution_count": 13,
   "metadata": {},
   "outputs": [],
   "source": [
    "d.describe()\n",
    "d1 = d.toPandas()"
   ]
  },
  {
   "cell_type": "code",
   "execution_count": 14,
   "metadata": {},
   "outputs": [
    {
     "data": {
      "text/html": [
       "<div>\n",
       "<style scoped>\n",
       "    .dataframe tbody tr th:only-of-type {\n",
       "        vertical-align: middle;\n",
       "    }\n",
       "\n",
       "    .dataframe tbody tr th {\n",
       "        vertical-align: top;\n",
       "    }\n",
       "\n",
       "    .dataframe thead th {\n",
       "        text-align: right;\n",
       "    }\n",
       "</style>\n",
       "<table border=\"1\" class=\"dataframe\">\n",
       "  <thead>\n",
       "    <tr style=\"text-align: right;\">\n",
       "      <th></th>\n",
       "      <th>age</th>\n",
       "      <th>sex</th>\n",
       "      <th>bmi</th>\n",
       "      <th>children</th>\n",
       "      <th>smoker</th>\n",
       "      <th>region</th>\n",
       "      <th>charges</th>\n",
       "    </tr>\n",
       "  </thead>\n",
       "  <tbody>\n",
       "    <tr>\n",
       "      <th>0</th>\n",
       "      <td>19</td>\n",
       "      <td>female</td>\n",
       "      <td>27.900</td>\n",
       "      <td>0</td>\n",
       "      <td>yes</td>\n",
       "      <td>southwest</td>\n",
       "      <td>16884.92400</td>\n",
       "    </tr>\n",
       "    <tr>\n",
       "      <th>1</th>\n",
       "      <td>18</td>\n",
       "      <td>male</td>\n",
       "      <td>33.770</td>\n",
       "      <td>1</td>\n",
       "      <td>no</td>\n",
       "      <td>southeast</td>\n",
       "      <td>1725.55230</td>\n",
       "    </tr>\n",
       "    <tr>\n",
       "      <th>2</th>\n",
       "      <td>28</td>\n",
       "      <td>male</td>\n",
       "      <td>33.000</td>\n",
       "      <td>3</td>\n",
       "      <td>no</td>\n",
       "      <td>southeast</td>\n",
       "      <td>4449.46200</td>\n",
       "    </tr>\n",
       "    <tr>\n",
       "      <th>3</th>\n",
       "      <td>33</td>\n",
       "      <td>male</td>\n",
       "      <td>22.705</td>\n",
       "      <td>0</td>\n",
       "      <td>no</td>\n",
       "      <td>northwest</td>\n",
       "      <td>21984.47061</td>\n",
       "    </tr>\n",
       "    <tr>\n",
       "      <th>4</th>\n",
       "      <td>32</td>\n",
       "      <td>male</td>\n",
       "      <td>28.880</td>\n",
       "      <td>0</td>\n",
       "      <td>no</td>\n",
       "      <td>northwest</td>\n",
       "      <td>3866.85520</td>\n",
       "    </tr>\n",
       "  </tbody>\n",
       "</table>\n",
       "</div>"
      ],
      "text/plain": [
       "   age     sex     bmi  children smoker     region      charges\n",
       "0   19  female  27.900         0    yes  southwest  16884.92400\n",
       "1   18    male  33.770         1     no  southeast   1725.55230\n",
       "2   28    male  33.000         3     no  southeast   4449.46200\n",
       "3   33    male  22.705         0     no  northwest  21984.47061\n",
       "4   32    male  28.880         0     no  northwest   3866.85520"
      ]
     },
     "execution_count": 14,
     "metadata": {},
     "output_type": "execute_result"
    }
   ],
   "source": [
    "d1.head(5)"
   ]
  },
  {
   "cell_type": "markdown",
   "metadata": {},
   "source": [
    "# Visualization of Data\n"
   ]
  },
  {
   "cell_type": "code",
   "execution_count": 47,
   "metadata": {},
   "outputs": [
    {
     "name": "stdout",
     "output_type": "stream",
     "text": [
      "+------+-----+\n",
      "|smoker|count|\n",
      "+------+-----+\n",
      "|    no| 1064|\n",
      "|   yes|  274|\n",
      "+------+-----+\n",
      "\n"
     ]
    },
    {
     "data": {
      "text/plain": [
       "<AxesSubplot:xlabel='children', ylabel='charges'>"
      ]
     },
     "execution_count": 47,
     "metadata": {},
     "output_type": "execute_result"
    },
    {
     "data": {
      "image/png": "[encoded data removed]",
      "text/plain": [
       "<Figure size 432x288 with 1 Axes>"
      ]
     },
     "metadata": {
      "needs_background": "light"
     },
     "output_type": "display_data"
    }
   ],
   "source": [
    "d.groupby('smoker').count().show()\n",
    "#dx = d.toPandas()\n",
    "sn.barplot(x='children',y='charges', data=d1)\n"
   ]
  },
  {
   "cell_type": "code",
   "execution_count": 48,
   "metadata": {},
   "outputs": [
    {
     "data": {
      "text/plain": [
       "<AxesSubplot:xlabel='region', ylabel='charges'>"
      ]
     },
     "execution_count": 48,
     "metadata": {},
     "output_type": "execute_result"
    },
    {
     "data": {
      "image/png": "[encoded data removed]",
      "text/plain": [
       "<Figure size 432x288 with 1 Axes>"
      ]
     },
     "metadata": {
      "needs_background": "light"
     },
     "output_type": "display_data"
    }
   ],
   "source": [
    "sn.barplot(x='region',y='charges', d=d1)"
   ]
  },
  {
   "cell_type": "code",
   "execution_count": 49,
   "metadata": {},
   "outputs": [
    {
     "data": {
      "text/plain": [
       "Text(0.5, 1.0, 'Age Vs charges')"
      ]
     },
     "execution_count": 49,
     "metadata": {},
     "output_type": "execute_result"
    },
    {
     "data": {
      "image/png": "[encoded data removed]",
      "text/plain": [
       "<Figure size 864x576 with 1 Axes>"
      ]
     },
     "metadata": {
      "needs_background": "light"
     },
     "output_type": "display_data"
    }
   ],
   "source": [
    "plt.figure(figsize=(12,8))\n",
    "sn.barplot(x='age',y='charges', d=d1)\n",
    "plt.title('Age Vs charges')"
   ]
  },
  {
   "cell_type": "markdown",
   "metadata": {},
   "source": []
  },
  {
   "cell_type": "code",
   "execution_count": 50,
   "metadata": {},
   "outputs": [
    {
     "data": {
      "text/plain": [
       "[Row(age=19, sex=2, bmi=27.9, children=0, smoker=1, region='southwest', charges=16884.924),\n",
       " Row(age=18, sex=1, bmi=33.77, children=1, smoker=0, region='southeast', charges=1725.5523),\n",
       " Row(age=28, sex=1, bmi=33.0, children=3, smoker=0, region='southeast', charges=4449.462),\n",
       " Row(age=33, sex=1, bmi=22.705, children=0, smoker=0, region='northwest', charges=21984.47061),\n",
       " Row(age=32, sex=1, bmi=28.88, children=0, smoker=0, region='northwest', charges=3866.8552)]"
      ]
     },
     "execution_count": 50,
     "metadata": {},
     "output_type": "execute_result"
    }
   ],
   "source": [
    "clean_val = {\"sex\": {\"male\":1,\"female\":2} , \"smoker\": {\"yes\":1,\"no\":0}}\n",
    "d1 = d1.replace(clean_val) # replacing all the useful categorical values\n",
    "#d1.head(5)\n",
    "df=spark.createDataFrame(d1)\n",
    "df.head(5)"
   ]
  },
  {
   "cell_type": "code",
   "execution_count": 51,
   "metadata": {},
   "outputs": [
    {
     "name": "stdout",
     "output_type": "stream",
     "text": [
      "root\n",
      " |-- age: long (nullable = true)\n",
      " |-- sex: long (nullable = true)\n",
      " |-- bmi: double (nullable = true)\n",
      " |-- children: long (nullable = true)\n",
      " |-- smoker: long (nullable = true)\n",
      " |-- charges: double (nullable = true)\n",
      "\n"
     ]
    }
   ],
   "source": [
    "from pyspark.sql.functions import col\n",
    "finaldf=df.drop(df.region)\n",
    "finaldf.printSchema()"
   ]
  },
  {
   "cell_type": "code",
   "execution_count": 52,
   "metadata": {},
   "outputs": [
    {
     "name": "stdout",
     "output_type": "stream",
     "text": [
      "0\n",
      "0\n",
      "0\n",
      "0\n",
      "0\n",
      "0\n"
     ]
    }
   ],
   "source": [
    "#Checking Null Values\n",
    "from pyspark.sql.functions import col\n",
    "for i in finaldf.columns:\n",
    "    print(finaldf.where(col(i).isNull()).count())\n"
   ]
  },
  {
   "cell_type": "code",
   "execution_count": 53,
   "metadata": {},
   "outputs": [],
   "source": [
    "features = ['age', 'sex', 'bmi', 'children', 'smoker']\n",
    "from pyspark.ml.feature import VectorAssembler\n",
    "\n",
    "assembler = VectorAssembler(\n",
    "    inputCols=finalDF.columns,\n",
    "    outputCol=\"features\")\n",
    "\n",
    "output = assembler.transform(finalDF).select('features','charges')"
   ]
  },
  {
   "cell_type": "code",
   "execution_count": 54,
   "metadata": {},
   "outputs": [],
   "source": [
    "train,test = output.randomSplit([0.75, 0.25])"
   ]
  },
  {
   "cell_type": "code",
   "execution_count": 55,
   "metadata": {},
   "outputs": [
    {
     "name": "stdout",
     "output_type": "stream",
     "text": [
      "+--------------------+----------+\n",
      "|            features|   charges|\n",
      "+--------------------+----------+\n",
      "|[18.0,1.0,15.96,0...| 1694.7964|\n",
      "|[18.0,1.0,23.75,0...| 1705.6245|\n",
      "|[18.0,1.0,29.37,1...| 1719.4363|\n",
      "|[18.0,1.0,31.68,2...|34303.1672|\n",
      "|[18.0,1.0,34.1,0....|  1137.011|\n",
      "|[18.0,1.0,34.43,0...| 1137.4697|\n",
      "|[18.0,2.0,26.315,...|2198.18985|\n",
      "|[18.0,2.0,26.73,0...| 1615.7667|\n",
      "|[18.0,2.0,30.115,...|21344.8467|\n",
      "|[18.0,2.0,36.85,0...|36149.4835|\n",
      "|[18.0,2.0,38.28,0...| 1631.8212|\n",
      "|[18.0,2.0,38.665,...|3393.35635|\n",
      "|[19.0,1.0,20.425,...|1625.43375|\n",
      "|[19.0,1.0,20.9,1....|  1832.094|\n",
      "|[19.0,1.0,24.6,1....|  1837.237|\n",
      "|[19.0,1.0,25.555,...|1632.56445|\n",
      "|[19.0,1.0,27.7,0....| 16297.846|\n",
      "|[19.0,1.0,28.4,1....|  1842.519|\n",
      "|[19.0,1.0,34.1,0....|  1261.442|\n",
      "|[19.0,1.0,34.8,0....| 34779.615|\n",
      "+--------------------+----------+\n",
      "only showing top 20 rows\n",
      "\n"
     ]
    }
   ],
   "source": [
    "train.show()"
   ]
  },
  {
   "cell_type": "code",
   "execution_count": 56,
   "metadata": {},
   "outputs": [
    {
     "name": "stdout",
     "output_type": "stream",
     "text": [
      "+--------------------+-----------+\n",
      "|            features|    charges|\n",
      "+--------------------+-----------+\n",
      "|[18.0,1.0,17.29,2...| 12829.4551|\n",
      "|[18.0,1.0,22.99,0...|  1704.5681|\n",
      "|[18.0,1.0,25.175,...|15518.18025|\n",
      "|[18.0,1.0,33.77,1...|  1725.5523|\n",
      "|[18.0,2.0,35.625,...| 2211.13075|\n",
      "|[19.0,1.0,20.615,...| 2803.69785|\n",
      "|[19.0,1.0,29.07,0...| 17352.6803|\n",
      "|[19.0,1.0,30.59,0...|  1639.5631|\n",
      "|[19.0,1.0,31.92,0...| 33750.2918|\n",
      "|[19.0,2.0,17.8,0....|   1727.785|\n",
      "|[20.0,1.0,28.025,...|17560.37975|\n",
      "|[20.0,2.0,22.42,0...| 14711.7438|\n",
      "|[20.0,2.0,28.785,...| 2457.21115|\n",
      "|[20.0,2.0,28.975,...| 2257.47525|\n",
      "|[20.0,2.0,37.0,5....|    4830.63|\n",
      "|[22.0,2.0,24.3,0....|   2150.469|\n",
      "|[22.0,2.0,28.05,0...|  2155.6815|\n",
      "|[23.0,1.0,23.845,...| 2395.17155|\n",
      "|[23.0,1.0,34.4,0....|   1826.843|\n",
      "|[23.0,2.0,36.67,2...| 38511.6283|\n",
      "+--------------------+-----------+\n",
      "only showing top 20 rows\n",
      "\n"
     ]
    }
   ],
   "source": [
    "test.show()"
   ]
  },
  {
   "cell_type": "markdown",
   "metadata": {},
   "source": [
    "# Model"
   ]
  },
  {
   "cell_type": "code",
   "execution_count": 58,
   "metadata": {},
   "outputs": [],
   "source": [
    "from pyspark.ml import Pipeline\n",
    "from pyspark.ml.regression import DecisionTreeRegressor\n",
    "from pyspark.ml.feature import VectorIndexer\n",
    "from pyspark.ml.evaluation import RegressionEvaluator\n",
    "\n",
    "\n",
    "featureIndexer = VectorIndexer(inputCol=\"features\", outputCol=\"indexedFeatures\", maxCategories=4).fit(output)\n",
    "dt = DecisionTreeRegressor(featuresCol=\"features\",labelCol='charges')\n",
    "pipeline = Pipeline(stages=[featureIndexer, dt])\n",
    "model = pipeline.fit(train)\n",
    "\n",
    "\n",
    "predictions = model.transform(test)\n",
    "\n",
    "\n"
   ]
  },
  {
   "cell_type": "code",
   "execution_count": 59,
   "metadata": {},
   "outputs": [
    {
     "name": "stdout",
     "output_type": "stream",
     "text": [
      "+------------------+-----------+--------------------+\n",
      "|        prediction|    charges|            features|\n",
      "+------------------+-----------+--------------------+\n",
      "|12584.726376935483| 12829.4551|[18.0,1.0,17.29,2...|\n",
      "|1757.6029391304346|  1704.5681|[18.0,1.0,22.99,0...|\n",
      "|16148.382882222222|15518.18025|[18.0,1.0,25.175,...|\n",
      "|1757.6029391304346|  1725.5523|[18.0,1.0,33.77,1...|\n",
      "|1757.6029391304346| 2211.13075|[18.0,2.0,35.625,...|\n",
      "+------------------+-----------+--------------------+\n",
      "only showing top 5 rows\n",
      "\n",
      "Root Mean Squared Error (RMSE) on test data = 878.971\n"
     ]
    }
   ],
   "source": [
    "predictions.select(\"prediction\", \"charges\", \"features\").show(5)\n",
    "evaluator = RegressionEvaluator(\n",
    "    labelCol=\"charges\", predictionCol=\"prediction\", metricName=\"rmse\")\n",
    "rmse = evaluator.evaluate(predictions)\n",
    "print(\"Root Mean Squared Error (RMSE) on test data = %g\" % rmse)"
   ]
  },
  {
   "cell_type": "code",
   "execution_count": null,
   "metadata": {},
   "outputs": [],
   "source": []
  }
 ],
 "metadata": {
  "kernelspec": {
   "display_name": "Python 3",
   "language": "python",
   "name": "python3"
  },
  "language_info": {
   "codemirror_mode": {
    "name": "ipython",
    "version": 3
   },
   "file_extension": ".py",
   "mimetype": "text/x-python",
   "name": "python",
   "nbconvert_exporter": "python",
   "pygments_lexer": "ipython3",
   "version": "3.8.8"
  }
 },
 "nbformat": 4,
 "nbformat_minor": 4
}
